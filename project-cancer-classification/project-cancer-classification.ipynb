{
 "cells": [
  {
   "cell_type": "markdown",
   "id": "8bc02404-8cd1-46d9-8237-2d035ebb3e79",
   "metadata": {},
   "source": [
    "# **[Project] Cancer Subtype Classification**"
   ]
  },
  {
   "cell_type": "markdown",
   "id": "0c5076f4",
   "metadata": {},
   "source": [
    "# Introduction"
   ]
  },
  {
   "cell_type": "markdown",
   "id": "8a599748",
   "metadata": {},
   "source": [
    "The [TCGA Kidney Cancers Dataset](https://archive.ics.uci.edu/dataset/892/tcga+kidney+cancers) is a bulk RNA-seq dataset that contains transcriptome profiles (i.e., gene expression quantification data) of patients diagnosed with three different subtypes of kidney cancers.\n",
    "This dataset can be used to make predictions about the specific subtype of kidney cancers given the normalized transcriptome profile data.\n",
    "\n",
    "The normalized transcriptome profile data is given as **TPM** and **FPKM** for each gene.\n",
    "\n",
    "> TPM (Transcripts Per Million) and FPKM (Fragments Per Kilobase Million) are two common methods for quantifying gene expression in RNA sequencing data.\n",
    "> They both aim to account for the differences in sequencing depth and transcript length when estimating gene expression levels.\n",
    ">\n",
    "> **TPM** (Transcripts Per Million):\n",
    "> - TPM is a measure of gene expression that normalizes for both library size (sequencing depth) and transcript length.\n",
    "> - The main idea behind TPM is to express the abundance of a transcript relative to the total number of transcripts in a sample, scaled to one million.\n",
    ">\n",
    "> **FPKM** (Fragments Per Kilobase Million):\n",
    "> - FPKM is another method for quantifying gene expression, which is commonly used in older RNA-seq analysis pipelines. It's similar in concept to TPM but differs in the way it's calculated.\n",
    "> - FPKM also normalizes for library size and transcript length, but it measures gene expression as the number of fragments (i.e., reads) per kilobase of exon model per million reads.\n",
    ">\n",
    "> TPM is generally considered more robust to variations in library size, making it a preferred choice in many modern RNA-seq analysis workflows.\n",
    "\n",
    "We provide one dataset for each kidney cancer subtype:\n",
    "\n",
    "- [TCGA-KICH](https://portal.gdc.cancer.gov/projects/TCGA-KICH): kidney chromophobe (renal clear cell carcinoma)\n",
    "- [TCGA-KIRC](https://portal.gdc.cancer.gov/projects/TCGA-KIRC): kidney renal clear cell carcinoma\n",
    "- [TCGA-KIRP](https://portal.gdc.cancer.gov/projects/TCGA-KIRP): kidney renal papillary cell carcinoma\n",
    "\n",
    "> This and _much_ more data is openly available on the [NCI Genomic Data Commons (GDC) Data Portal](https://portal.gdc.cancer.gov/)."
   ]
  },
  {
   "cell_type": "markdown",
   "id": "16712787",
   "metadata": {},
   "source": [
    "# Data access"
   ]
  },
  {
   "cell_type": "markdown",
   "id": "6421ef6c",
   "metadata": {},
   "source": [
    "There are two ways to access the data: via the TNT homepage or the GDC Data Portal."
   ]
  },
  {
   "cell_type": "markdown",
   "id": "b977e8b8",
   "metadata": {},
   "source": [
    "## Download from the TNT homepage (_recommended_)"
   ]
  },
  {
   "cell_type": "markdown",
   "id": "800fa7bd",
   "metadata": {},
   "source": [
    "The download from the TNT homepage is straightforward:"
   ]
  },
  {
   "cell_type": "code",
   "execution_count": 1,
   "id": "dda97b16",
   "metadata": {},
   "outputs": [
    {
     "name": "stdout",
     "output_type": "stream",
     "text": [
      "zsh:1: command not found: wget\n",
      "tar: Error opening archive: Failed to open 'project-cancer-classification.tar.gz'\n",
      "mv: rename project-cancer-classification/ to data/: No such file or directory\n",
      "rm: project-cancer-classification.tar.gz: No such file or directory\n"
     ]
    }
   ],
   "source": [
    "! wget http://www.tnt.uni-hannover.de/edu/vorlesungen/AMLG/data/project-cancer-classification.tar.gz\n",
    "! tar -xzvf project-cancer-classification.tar.gz\n",
    "! mv -v project-cancer-classification/ data/\n",
    "! rm -v project-cancer-classification.tar.gz"
   ]
  },
  {
   "cell_type": "markdown",
   "id": "bc2db880",
   "metadata": {},
   "source": [
    "In the `data/` folder you will now find many files in the [TSV format](https://en.wikipedia.org/wiki/Tab-separated_values) ([CSV](https://en.wikipedia.org/wiki/Comma-separated_values)-like with tabs as delimiter) containing the normalized transcriptome profile data.\n",
    "\n",
    "To start, you can read a TSV file into a [pandas](https://pandas.pydata.org) [`DataFrame`](pandas dataframe to dict) using the [`pandas.read_csv()`](https://pandas.pydata.org/docs/reference/api/pandas.read_csv.html#pandas-read-csv) function with the `sep` parameter set to `\\t`:"
   ]
  },
  {
   "cell_type": "code",
   "execution_count": null,
   "id": "2adae4ff",
   "metadata": {},
   "outputs": [],
   "source": [
    "import pandas as pd\n",
    "\n",
    "tsv_file_path = \"data/tcga-kich-geq/0ba21ef5-0829-422e-a674-d3817498c333/4868e8fc-e045-475a-a81d-ef43eabb7066.rna_seq.augmented_star_gene_counts.tsv\"\n",
    "\n",
    "# Read the TSV file into a DataFrame\n",
    "df = pd.read_csv(filepath_or_buffer=tsv_file_path, sep=\"\\t\")\n",
    "\n",
    "# Display the first few rows of the DataFrame\n",
    "print(df.head(n=20))"
   ]
  },
  {
   "cell_type": "markdown",
   "id": "663358ae",
   "metadata": {},
   "source": [
    "## Download from the GDC Data Portal"
   ]
  },
  {
   "cell_type": "markdown",
   "id": "99c62e12",
   "metadata": {},
   "source": [
    "The data can also be accessed via the GDC Data Portal.\n",
    "\n",
    "A convenient way to download multiple files from the GDC Data Portal is to use a manifest file generated by the portal.\n",
    "After generating a manifest file, initiate the download using the [GDC Data Transfer Tool](https://gdc.cancer.gov/access-data/gdc-data-transfer-tool) by supplying the `-m` or `--manifest` option, followed by the location and name of the manifest file.\n",
    "\n",
    "We provide the following manifest files (in the `gdc-data-portal` folder) for the datasets:\n",
    "\n",
    "- `gdc_manifest.tcga-kich-geq.txt` (91 files)\n",
    "- `gdc_manifest.tcga-kirc-geq.txt` (614 files)\n",
    "- `gdc_manifest.tcga-kirp-geq.txt` (323 files)\n",
    "\n",
    "> We also provide `metadata.*.json` files containing extensive dataset metadata.\n",
    "\n",
    "Assuming that the GDC Data Transfer Tool is available as `gdc-client`, the following commands can be used to download the data.\n",
    "\n",
    "```shell\n",
    "mkdir --parents data/tcga-kich-geq/\n",
    "mkdir --parents data/tcga-kirc-geq/\n",
    "mkdir --parents data/tcga-kirp-geq/\n",
    "\n",
    "gdc-client download --manifest gdc_manifest.tcga-kich-geq.txt --dir data/tcga-kich-geq/\n",
    "gdc-client download --manifest gdc_manifest.tcga-kirc-geq.txt --dir data/tcga-kirc-geq/\n",
    "gdc-client download --manifest gdc_manifest.tcga-kirp-geq.txt --dir data/tcga-kirp-geq/\n",
    "```"
   ]
  }
 ],
 "metadata": {
  "kernelspec": {
   "display_name": "Python 3 (ipykernel)",
   "language": "python",
   "name": "python3"
  },
  "language_info": {
   "codemirror_mode": {
    "name": "ipython",
    "version": 3
   },
   "file_extension": ".py",
   "mimetype": "text/x-python",
   "name": "python",
   "nbconvert_exporter": "python",
   "pygments_lexer": "ipython3",
   "version": "3.10.2"
  }
 },
 "nbformat": 4,
 "nbformat_minor": 5
}
